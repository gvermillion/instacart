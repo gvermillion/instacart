{
 "cells": [
  {
   "cell_type": "markdown",
   "metadata": {
    "toc": true
   },
   "source": [
    "<h1>Table of Contents<span class=\"tocSkip\"></span></h1>\n",
    "<div class=\"toc\"><ul class=\"toc-item\"><li><span><a href=\"#Initialize\" data-toc-modified-id=\"Initialize-1\"><span class=\"toc-item-num\">1&nbsp;&nbsp;</span>Initialize</a></span><ul class=\"toc-item\"><li><span><a href=\"#Import-Stuff\" data-toc-modified-id=\"Import-Stuff-1.1\"><span class=\"toc-item-num\">1.1&nbsp;&nbsp;</span>Import Stuff</a></span></li><li><span><a href=\"#Environmental-Stuff\" data-toc-modified-id=\"Environmental-Stuff-1.2\"><span class=\"toc-item-num\">1.2&nbsp;&nbsp;</span>Environmental Stuff</a></span></li><li><span><a href=\"#Functions\" data-toc-modified-id=\"Functions-1.3\"><span class=\"toc-item-num\">1.3&nbsp;&nbsp;</span>Functions</a></span><ul class=\"toc-item\"><li><span><a href=\"#Named\" data-toc-modified-id=\"Named-1.3.1\"><span class=\"toc-item-num\">1.3.1&nbsp;&nbsp;</span>Named</a></span></li></ul></li><li><span><a href=\"#Load-Pickles\" data-toc-modified-id=\"Load-Pickles-1.4\"><span class=\"toc-item-num\">1.4&nbsp;&nbsp;</span>Load Pickles</a></span></li></ul></li><li><span><a href=\"#Scoring-Scheme\" data-toc-modified-id=\"Scoring-Scheme-2\"><span class=\"toc-item-num\">2&nbsp;&nbsp;</span>Scoring Scheme</a></span></li></ul></div>"
   ]
  },
  {
   "cell_type": "markdown",
   "metadata": {},
   "source": [
    "# Initialize\n",
    "\n",
    "## Import Stuff"
   ]
  },
  {
   "cell_type": "code",
   "execution_count": 1,
   "metadata": {},
   "outputs": [],
   "source": [
    "import pickle as pkl\n",
    "import pandas as pd\n",
    "import seaborn as sns\n",
    "import matplotlib.pyplot as plt\n",
    "import numpy as np\n",
    "import warnings"
   ]
  },
  {
   "cell_type": "markdown",
   "metadata": {},
   "source": [
    "## Environmental Stuff"
   ]
  },
  {
   "cell_type": "code",
   "execution_count": 2,
   "metadata": {},
   "outputs": [],
   "source": [
    "warnings.filterwarnings('ignore')\n",
    "sns.set(font_scale=1.5)\n",
    "%matplotlib inline"
   ]
  },
  {
   "cell_type": "markdown",
   "metadata": {},
   "source": [
    "## Functions\n",
    "\n",
    "### Named"
   ]
  },
  {
   "cell_type": "code",
   "execution_count": 3,
   "metadata": {},
   "outputs": [],
   "source": [
    "def make_figure(figsize=(12,9)):\n",
    "    fig = plt.figure(figsize=figsize)\n",
    "    ax = plt.gca()\n",
    "    return fig, ax\n",
    "\n",
    "def score_category(in_df=None,category=None,total_points=5):\n",
    "    df = in_df[['user_id',category]].copy().sort_values(category)\n",
    "    df[category+'_score'] = 0\n",
    "    unique_sorted = sorted(df[category].unique())\n",
    "    no_unique = len(unique_sorted)\n",
    "    segments = no_unique/total_points\n",
    "    \n",
    "    for i in np.arange(1,total_points+1):\n",
    "            start = int(segments*(i-1))\n",
    "            end = int(segments*i)\n",
    "            if i<total_points:\n",
    "                df.iloc[start:end,-1] = i\n",
    "            else:\n",
    "                df.iloc[start:,-1] = total_points\n",
    "    out_df = pd.merge(customer_cat_df,df.drop(category,axis=1),on='user_id')\n",
    "    \n",
    "    return out_df"
   ]
  },
  {
   "cell_type": "markdown",
   "metadata": {},
   "source": [
    "## Load Pickles"
   ]
  },
  {
   "cell_type": "code",
   "execution_count": 4,
   "metadata": {},
   "outputs": [],
   "source": [
    "with open('../pickles/customers.pkl','rb') as fin:\n",
    "    customers_df = pkl.load(fin)\n",
    "with open('../pickles/order_products.pkl','rb') as fin:\n",
    "    order_products_df = pkl.load(fin)"
   ]
  },
  {
   "cell_type": "markdown",
   "metadata": {},
   "source": [
    "# Scoring Scheme\n",
    "\n",
    "**Goal:** Segment customers in Value Levels 0-2 (2: most valuable).\n",
    "\n",
    "***Assumption:*** The most valuable customers will be generally very consistent with their orders.\n",
    "- High ratio of reordered items\n",
    "- High purchase rate\n",
    "- Long lifetime\n",
    "\n",
    "**Scoring Scheme:** For each category, user's a ranked in ascending order. The ordered lists are broken into 5 equal parts, and scored accordingly."
   ]
  },
  {
   "cell_type": "code",
   "execution_count": 5,
   "metadata": {},
   "outputs": [
    {
     "data": {
      "text/html": [
       "<div>\n",
       "<style scoped>\n",
       "    .dataframe tbody tr th:only-of-type {\n",
       "        vertical-align: middle;\n",
       "    }\n",
       "\n",
       "    .dataframe tbody tr th {\n",
       "        vertical-align: top;\n",
       "    }\n",
       "\n",
       "    .dataframe thead th {\n",
       "        text-align: right;\n",
       "    }\n",
       "</style>\n",
       "<table border=\"1\" class=\"dataframe\">\n",
       "  <thead>\n",
       "    <tr style=\"text-align: right;\">\n",
       "      <th></th>\n",
       "      <th>user_id</th>\n",
       "      <th>lifetime_score</th>\n",
       "      <th>ratio_reordered_score</th>\n",
       "      <th>avg_purchase_rate_score</th>\n",
       "      <th>overall_score</th>\n",
       "    </tr>\n",
       "  </thead>\n",
       "  <tbody>\n",
       "    <tr>\n",
       "      <th>0</th>\n",
       "      <td>187545</td>\n",
       "      <td>5</td>\n",
       "      <td>4</td>\n",
       "      <td>5</td>\n",
       "      <td>14</td>\n",
       "    </tr>\n",
       "    <tr>\n",
       "      <th>1</th>\n",
       "      <td>25444</td>\n",
       "      <td>5</td>\n",
       "      <td>4</td>\n",
       "      <td>5</td>\n",
       "      <td>14</td>\n",
       "    </tr>\n",
       "    <tr>\n",
       "      <th>2</th>\n",
       "      <td>34867</td>\n",
       "      <td>1</td>\n",
       "      <td>2</td>\n",
       "      <td>5</td>\n",
       "      <td>8</td>\n",
       "    </tr>\n",
       "    <tr>\n",
       "      <th>3</th>\n",
       "      <td>172424</td>\n",
       "      <td>5</td>\n",
       "      <td>1</td>\n",
       "      <td>5</td>\n",
       "      <td>11</td>\n",
       "    </tr>\n",
       "    <tr>\n",
       "      <th>4</th>\n",
       "      <td>162611</td>\n",
       "      <td>5</td>\n",
       "      <td>5</td>\n",
       "      <td>5</td>\n",
       "      <td>15</td>\n",
       "    </tr>\n",
       "  </tbody>\n",
       "</table>\n",
       "</div>"
      ],
      "text/plain": [
       "   user_id  lifetime_score  ratio_reordered_score  avg_purchase_rate_score  \\\n",
       "0   187545               5                      4                        5   \n",
       "1    25444               5                      4                        5   \n",
       "2    34867               1                      2                        5   \n",
       "3   172424               5                      1                        5   \n",
       "4   162611               5                      5                        5   \n",
       "\n",
       "   overall_score  \n",
       "0             14  \n",
       "1             14  \n",
       "2              8  \n",
       "3             11  \n",
       "4             15  "
      ]
     },
     "execution_count": 5,
     "metadata": {},
     "output_type": "execute_result"
    }
   ],
   "source": [
    "customer_cat_df = (customers_df\n",
    "                   .copy()\n",
    "                   .drop(['avg_dow', 'avg_hour', 'avg_days_since', 'var_dow', 'var_hour', \n",
    "                          'var_days_since', 'total_orders', 'avg_cart_size', 'var_cart_size', \n",
    "                          'avg_consistency_rate', 'var_consistency_rate', 'var_purchase_rate',]\n",
    "                         ,axis=1)\n",
    "                  )\n",
    "\n",
    "categories = 'lifetime ratio_reordered avg_purchase_rate'.split()\n",
    "for category in categories:\n",
    "    customer_cat_df = score_category(in_df=customer_cat_df,category=category,total_points=5)\n",
    "customer_cat_df.drop(categories,axis=1,inplace=True)\n",
    "customer_cat_df['overall_score'] = (customer_cat_df.lifetime_score \n",
    "                                    + customer_cat_df.ratio_reordered_score \n",
    "                                    + customer_cat_df.avg_purchase_rate_score)/3\n",
    "\n",
    "customer_cat_df['overall_score'] = (customer_cat_df.lifetime_score \n",
    "                                    + customer_cat_df.ratio_reordered_score \n",
    "                                    + customer_cat_df.avg_purchase_rate_score)\n",
    "customer_cat_df.head()"
   ]
  },
  {
   "cell_type": "markdown",
   "metadata": {},
   "source": [
    "**NOTE:** Too many high scores. Need to use unique list to determine scores."
   ]
  },
  {
   "cell_type": "code",
   "execution_count": 15,
   "metadata": {},
   "outputs": [
    {
     "data": {
      "text/plain": [
       "4093"
      ]
     },
     "execution_count": 15,
     "metadata": {},
     "output_type": "execute_result"
    }
   ],
   "source": [
    "len(customers_df.query('lifetime > 300'))"
   ]
  },
  {
   "cell_type": "code",
   "execution_count": null,
   "metadata": {},
   "outputs": [],
   "source": []
  }
 ],
 "metadata": {
  "kernelspec": {
   "display_name": "Python 3",
   "language": "python",
   "name": "python3"
  },
  "language_info": {
   "codemirror_mode": {
    "name": "ipython",
    "version": 3
   },
   "file_extension": ".py",
   "mimetype": "text/x-python",
   "name": "python",
   "nbconvert_exporter": "python",
   "pygments_lexer": "ipython3",
   "version": "3.7.3"
  },
  "toc": {
   "base_numbering": 1,
   "nav_menu": {},
   "number_sections": true,
   "sideBar": true,
   "skip_h1_title": false,
   "title_cell": "Table of Contents",
   "title_sidebar": "Contents",
   "toc_cell": true,
   "toc_position": {},
   "toc_section_display": true,
   "toc_window_display": true
  }
 },
 "nbformat": 4,
 "nbformat_minor": 2
}
